{
 "cells": [
  {
   "cell_type": "markdown",
   "metadata": {},
   "source": [
    "# Python Programming"
   ]
  },
  {
   "cell_type": "markdown",
   "metadata": {},
   "source": [
    "This is a Jupyter notebook. We use Jupyter to demonstrate Python code in class. You will also submit the codes from your homework as a notebook. Each cell is either a \"Code\" cell or a \"Markdown\" cell (like this one, which contains text)."
   ]
  },
  {
   "cell_type": "markdown",
   "metadata": {},
   "source": [
    "## Variable Types"
   ]
  },
  {
   "cell_type": "markdown",
   "metadata": {},
   "source": [
    "Numerical variable types include integer, float, and complex.  It's important to use the variable type that makes sense for your application.  You can use **int()**, **float()**, and **complex()** to switch between the different types.  First we convert an integer to a float and a complex."
   ]
  },
  {
   "cell_type": "code",
   "execution_count": 12,
   "metadata": {},
   "outputs": [
    {
     "name": "stdout",
     "output_type": "stream",
     "text": [
      "5\n",
      "5.0\n",
      "(5+0j)\n"
     ]
    }
   ],
   "source": [
    "a=5# assign value of 5 (integer) to variable\n",
    "print(a)\n",
    "print(float(a))\n",
    "print(complex(a))"
   ]
  },
  {
   "cell_type": "markdown",
   "metadata": {},
   "source": [
    "If we convert a float to an integer, it removes the fractional part, keeping the digits to the left of the decimal."
   ]
  },
  {
   "cell_type": "code",
   "execution_count": 17,
   "metadata": {},
   "outputs": [
    {
     "name": "stdout",
     "output_type": "stream",
     "text": [
      "4.7\n",
      "4\n",
      "-4.7\n",
      "-4\n"
     ]
    }
   ],
   "source": [
    "a=4.7\n",
    "print(a)\n",
    "print(int(a))\n",
    "\n",
    "a=-4.7\n",
    "print(a)\n",
    "print(int(a))"
   ]
  },
  {
   "cell_type": "markdown",
   "metadata": {},
   "source": [
    "  You cannot convert a complex to a float (or an integer)."
   ]
  },
  {
   "cell_type": "code",
   "execution_count": 14,
   "metadata": {},
   "outputs": [
    {
     "name": "stdout",
     "output_type": "stream",
     "text": [
      "(4.7+2.6j)\n"
     ]
    },
    {
     "ename": "TypeError",
     "evalue": "can't convert complex to float",
     "output_type": "error",
     "traceback": [
      "\u001b[0;31m---------------------------------------------------------------------------\u001b[0m",
      "\u001b[0;31mTypeError\u001b[0m                                 Traceback (most recent call last)",
      "\u001b[0;32m<ipython-input-14-79d3e281a096>\u001b[0m in \u001b[0;36m<module>\u001b[0;34m\u001b[0m\n\u001b[1;32m      1\u001b[0m \u001b[0ma\u001b[0m\u001b[0;34m=\u001b[0m\u001b[0;36m4.7\u001b[0m\u001b[0;34m+\u001b[0m\u001b[0;36m2.6j\u001b[0m\u001b[0;34m\u001b[0m\u001b[0;34m\u001b[0m\u001b[0m\n\u001b[1;32m      2\u001b[0m \u001b[0mprint\u001b[0m\u001b[0;34m(\u001b[0m\u001b[0ma\u001b[0m\u001b[0;34m)\u001b[0m\u001b[0;34m\u001b[0m\u001b[0;34m\u001b[0m\u001b[0m\n\u001b[0;32m----> 3\u001b[0;31m \u001b[0mprint\u001b[0m\u001b[0;34m(\u001b[0m\u001b[0mfloat\u001b[0m\u001b[0;34m(\u001b[0m\u001b[0ma\u001b[0m\u001b[0;34m)\u001b[0m\u001b[0;34m)\u001b[0m\u001b[0;34m\u001b[0m\u001b[0;34m\u001b[0m\u001b[0m\n\u001b[0m",
      "\u001b[0;31mTypeError\u001b[0m: can't convert complex to float"
     ]
    }
   ],
   "source": [
    "a=4.7+2.6j\n",
    "print(a)\n",
    "print(float(a))"
   ]
  },
  {
   "cell_type": "markdown",
   "metadata": {},
   "source": [
    "Words or groups of words are saved as *strings*.  A number can be converted to a string using the **str()** function.  Strings cannot be converted to numbers unless the formatting is correct. "
   ]
  },
  {
   "cell_type": "code",
   "execution_count": 34,
   "metadata": {},
   "outputs": [
    {
     "data": {
      "text/plain": [
       "'5'"
      ]
     },
     "execution_count": 34,
     "metadata": {},
     "output_type": "execute_result"
    }
   ],
   "source": [
    "str(5)"
   ]
  },
  {
   "cell_type": "code",
   "execution_count": 35,
   "metadata": {},
   "outputs": [
    {
     "data": {
      "text/plain": [
       "'(2+8j)'"
      ]
     },
     "execution_count": 35,
     "metadata": {},
     "output_type": "execute_result"
    }
   ],
   "source": [
    "str(2.+8.j)"
   ]
  },
  {
   "cell_type": "code",
   "execution_count": 36,
   "metadata": {},
   "outputs": [
    {
     "data": {
      "text/plain": [
       "89"
      ]
     },
     "execution_count": 36,
     "metadata": {},
     "output_type": "execute_result"
    }
   ],
   "source": [
    "int('89')"
   ]
  },
  {
   "cell_type": "code",
   "execution_count": 37,
   "metadata": {},
   "outputs": [
    {
     "data": {
      "text/plain": [
       "-35.8"
      ]
     },
     "execution_count": 37,
     "metadata": {},
     "output_type": "execute_result"
    }
   ],
   "source": [
    "float('-35.8')"
   ]
  },
  {
   "cell_type": "code",
   "execution_count": 38,
   "metadata": {},
   "outputs": [
    {
     "data": {
      "text/plain": [
       "(-2+3j)"
      ]
     },
     "execution_count": 38,
     "metadata": {},
     "output_type": "execute_result"
    }
   ],
   "source": [
    "complex('(-2+3j)')"
   ]
  },
  {
   "cell_type": "markdown",
   "metadata": {},
   "source": [
    "## Arithmetic"
   ]
  },
  {
   "cell_type": "markdown",
   "metadata": {},
   "source": [
    "Arithmetic is straightforward.  For mixed variable types, floats win over integers and complexi (or complexes) win over floats."
   ]
  },
  {
   "cell_type": "code",
   "execution_count": 39,
   "metadata": {},
   "outputs": [
    {
     "name": "stdout",
     "output_type": "stream",
     "text": [
      "-0.20000000000000018\n",
      "(4.7027703507567416e-05-8.23322955604603e-05j)\n",
      "(0.725-2.15j)\n"
     ]
    }
   ],
   "source": [
    "a=4\n",
    "b=-4.2\n",
    "c=2.9-8.6j\n",
    "print(a+b)# integer-float\n",
    "print(c**b)# float-complex\n",
    "print(c/a)# integer-complex"
   ]
  },
  {
   "cell_type": "markdown",
   "metadata": {},
   "source": [
    "Float division always give a float and gives the result that we normally call *division*."
   ]
  },
  {
   "cell_type": "code",
   "execution_count": 43,
   "metadata": {},
   "outputs": [
    {
     "name": "stdout",
     "output_type": "stream",
     "text": [
      "2.0\n",
      "3.0\n",
      "1.5\n"
     ]
    }
   ],
   "source": [
    "print(5./2.5)\n",
    "print(9/3)\n",
    "print(6/4)"
   ]
  },
  {
   "cell_type": "markdown",
   "metadata": {},
   "source": [
    "Integer division obeys variable type rules while removing remainders.  Specifically, when normal division does not equal a whole number, it reduces the numerator until it finds a number that does with the corresponding whole number being the result. This gives disparate results for positive and negative numbers."
   ]
  },
  {
   "cell_type": "code",
   "execution_count": 48,
   "metadata": {},
   "outputs": [
    {
     "name": "stdout",
     "output_type": "stream",
     "text": [
      "2.0\n",
      "2.0\n",
      "3\n",
      "1\n",
      "-2\n"
     ]
    }
   ],
   "source": [
    "print(5.//2.5)\n",
    "print(6.//2.5)\n",
    "print(9//3)\n",
    "print(6//4)\n",
    "print(-6//4)"
   ]
  },
  {
   "cell_type": "markdown",
   "metadata": {},
   "source": [
    "Modulo gives the remainder.  Note the behavior for negative numbers."
   ]
  },
  {
   "cell_type": "code",
   "execution_count": 49,
   "metadata": {},
   "outputs": [
    {
     "name": "stdout",
     "output_type": "stream",
     "text": [
      "0\n",
      "2.0\n",
      "2\n"
     ]
    }
   ],
   "source": [
    "print(6%2)\n",
    "print(4.5%2.5)\n",
    "print(-8%5)"
   ]
  },
  {
   "cell_type": "markdown",
   "metadata": {},
   "source": [
    "Strings have an addition function, where the two strings are concatenated.  To add a numeral to a string, the numeral has to be converted to a string before concatenated."
   ]
  },
  {
   "cell_type": "code",
   "execution_count": 40,
   "metadata": {},
   "outputs": [
    {
     "name": "stdout",
     "output_type": "stream",
     "text": [
      "basketball\n",
      "ball5\n"
     ]
    },
    {
     "ename": "TypeError",
     "evalue": "can only concatenate str (not \"int\") to str",
     "output_type": "error",
     "traceback": [
      "\u001b[0;31m---------------------------------------------------------------------------\u001b[0m",
      "\u001b[0;31mTypeError\u001b[0m                                 Traceback (most recent call last)",
      "\u001b[0;32m<ipython-input-40-ca36684a182a>\u001b[0m in \u001b[0;36m<module>\u001b[0;34m\u001b[0m\n\u001b[1;32m      4\u001b[0m \u001b[0mprint\u001b[0m\u001b[0;34m(\u001b[0m\u001b[0ma\u001b[0m\u001b[0;34m+\u001b[0m\u001b[0mb\u001b[0m\u001b[0;34m)\u001b[0m\u001b[0;34m\u001b[0m\u001b[0;34m\u001b[0m\u001b[0m\n\u001b[1;32m      5\u001b[0m \u001b[0mprint\u001b[0m\u001b[0;34m(\u001b[0m\u001b[0mb\u001b[0m\u001b[0;34m+\u001b[0m\u001b[0mstr\u001b[0m\u001b[0;34m(\u001b[0m\u001b[0mc\u001b[0m\u001b[0;34m)\u001b[0m\u001b[0;34m)\u001b[0m\u001b[0;34m\u001b[0m\u001b[0;34m\u001b[0m\u001b[0m\n\u001b[0;32m----> 6\u001b[0;31m \u001b[0mprint\u001b[0m\u001b[0;34m(\u001b[0m\u001b[0mb\u001b[0m\u001b[0;34m+\u001b[0m\u001b[0mc\u001b[0m\u001b[0;34m)\u001b[0m\u001b[0;34m\u001b[0m\u001b[0;34m\u001b[0m\u001b[0m\n\u001b[0m",
      "\u001b[0;31mTypeError\u001b[0m: can only concatenate str (not \"int\") to str"
     ]
    }
   ],
   "source": [
    "a='basket'\n",
    "b='ball'\n",
    "c=5\n",
    "print(a+b)\n",
    "print(b+str(c))\n",
    "print(b+c)"
   ]
  },
  {
   "cell_type": "markdown",
   "metadata": {},
   "source": [
    "Here are some examples of increments."
   ]
  },
  {
   "cell_type": "code",
   "execution_count": 50,
   "metadata": {},
   "outputs": [
    {
     "name": "stdout",
     "output_type": "stream",
     "text": [
      "6.5\n",
      "7.5\n",
      "3.0\n",
      "27.0\n",
      "barstool\n",
      "barstoolstool\n"
     ]
    }
   ],
   "source": [
    "q=6.5\n",
    "print(q)\n",
    "q+=1\n",
    "print(q)\n",
    "q/=2.5\n",
    "print(q)\n",
    "q**=3\n",
    "print(q)\n",
    "r='bar'\n",
    "s='stool'\n",
    "r+=s\n",
    "print(r)\n",
    "r+=s\n",
    "print(r)"
   ]
  },
  {
   "cell_type": "markdown",
   "metadata": {},
   "source": [
    "## Lists & Arrays"
   ]
  },
  {
   "cell_type": "markdown",
   "metadata": {},
   "source": [
    "Lists are groupings of values that can be a mix of types.  Here is an example."
   ]
  },
  {
   "cell_type": "code",
   "execution_count": 52,
   "metadata": {},
   "outputs": [
    {
     "name": "stdout",
     "output_type": "stream",
     "text": [
      "3\n",
      "orange\n",
      "2.25\n",
      "[3, 4.5, 'orange', 2.25]\n",
      "[4.5, 'orange']\n"
     ]
    }
   ],
   "source": [
    "drs=[3,4.5,'orange',9/4]\n",
    "print(drs[0])\n",
    "c=3\n",
    "print(drs[2])\n",
    "print(drs[c])\n",
    "print(drs[:])\n",
    "print(drs[1:3])"
   ]
  },
  {
   "cell_type": "markdown",
   "metadata": {},
   "source": [
    "[-1] always refers to the last entry. [-2] refers to the next-to-last entry, and so forth."
   ]
  },
  {
   "cell_type": "code",
   "execution_count": 54,
   "metadata": {},
   "outputs": [
    {
     "name": "stdout",
     "output_type": "stream",
     "text": [
      "[3, 4.5, 'orange', 2.25]\n",
      "2.25\n",
      "4.5\n"
     ]
    }
   ],
   "source": [
    "print(drs)\n",
    "print(drs[-1])\n",
    "print(drs[-3])"
   ]
  },
  {
   "cell_type": "markdown",
   "metadata": {},
   "source": [
    "Some fun operations."
   ]
  },
  {
   "cell_type": "code",
   "execution_count": 55,
   "metadata": {},
   "outputs": [
    {
     "name": "stdout",
     "output_type": "stream",
     "text": [
      "4\n",
      "[3, 4.5, 'orange', 2.25, 4]\n",
      "[3, 4.5, 'orange', 2.25, 3, 4.5, 'orange', 2.25, 3, 4.5, 'orange', 2.25, 3, 4.5, 'orange', 2.25]\n"
     ]
    }
   ],
   "source": [
    "print(len(drs)) # Length of list\n",
    "print(drs+[4]) # Add an entry\n",
    "print(drs*4)"
   ]
  },
  {
   "cell_type": "markdown",
   "metadata": {},
   "source": [
    "Arrays are like lists, but the entries must all be of the same numerical type.  They are provided using the *numpy* package."
   ]
  },
  {
   "cell_type": "code",
   "execution_count": 59,
   "metadata": {},
   "outputs": [
    {
     "name": "stdout",
     "output_type": "stream",
     "text": [
      "[  9.  15. -27.]\n",
      "[ 9. 25. 81.]\n"
     ]
    }
   ],
   "source": [
    "import numpy as np # load numpy package with alias np\n",
    "x=np.array([3.,5.,-9.])\n",
    "print(x*3)\n",
    "print(x**2)"
   ]
  },
  {
   "cell_type": "markdown",
   "metadata": {},
   "source": [
    "Many arrays are built from the zero array, the one array, and range array.  The default type is float, but you can declare them as other numeric types."
   ]
  },
  {
   "cell_type": "code",
   "execution_count": 65,
   "metadata": {},
   "outputs": [
    {
     "name": "stdout",
     "output_type": "stream",
     "text": [
      "[0. 0. 0. 0. 0.]\n",
      "[0 0 0 0 0]\n",
      "[1. 1. 1. 1.]\n",
      "[3.+0.j 3.+0.j 3.+0.j 3.+0.j]\n",
      "[3 4 5 6 7 8 9]\n",
      "[ 3.4  4.4  5.4  6.4  7.4  8.4  9.4 10.4]\n"
     ]
    }
   ],
   "source": [
    "print(np.zeros(5))\n",
    "print(np.zeros(5,int))\n",
    "print(np.ones(4))\n",
    "print(np.ones(4,complex)*3)\n",
    "print(np.arange(3,10))\n",
    "print(np.arange(3.4,10.8))"
   ]
  },
  {
   "cell_type": "markdown",
   "metadata": {},
   "source": [
    "Here are some operations between arrays."
   ]
  },
  {
   "cell_type": "code",
   "execution_count": 76,
   "metadata": {},
   "outputs": [
    {
     "name": "stdout",
     "output_type": "stream",
     "text": [
      "x = [ 3.  5. -9.]\n",
      "y = [0. 2. 4.]\n",
      "sum = [ 3.  7. -5.]\n",
      "x^y = [1.000e+00 2.500e+01 6.561e+03]\n",
      "dot product = -26.0\n",
      "cross product = [ 38. -12.   6.]\n"
     ]
    }
   ],
   "source": [
    "x=np.array([3.,5.,-9.])\n",
    "y=2*np.arange(3.)\n",
    "print('x =',x)\n",
    "print('y =',y)\n",
    "print('sum =',x+y)# addition\n",
    "print('x^y =',x**y)# power\n",
    "print('dot product =',x.dot(y))# dot product\n",
    "print('cross product =',np.cross(x,y))"
   ]
  },
  {
   "cell_type": "markdown",
   "metadata": {},
   "source": [
    "Numpy also provides multidimensional arrays."
   ]
  },
  {
   "cell_type": "code",
   "execution_count": 83,
   "metadata": {},
   "outputs": [
    {
     "name": "stdout",
     "output_type": "stream",
     "text": [
      "w = [[  3   9  45]\n",
      " [-15  -4 -15]]\n",
      "w[1] = [-15  -4 -15]\n",
      "w[:,2] = [ 45 -15]\n",
      "nrows,ncols = (2, 3)\n"
     ]
    }
   ],
   "source": [
    "w=np.array([[3,9,45],[-15,-4,-15]])\n",
    "print('w =',w)\n",
    "print('w[1] =',w[1])\n",
    "print('w[:,2] =',w[:,2])\n",
    "print('nrows,ncols =',np.shape(w))"
   ]
  },
  {
   "cell_type": "markdown",
   "metadata": {},
   "source": [
    "Use **numpy.vstack** to add a row."
   ]
  },
  {
   "cell_type": "code",
   "execution_count": 84,
   "metadata": {},
   "outputs": [
    {
     "name": "stdout",
     "output_type": "stream",
     "text": [
      "[[  3   9  45]\n",
      " [-15  -4 -15]\n",
      " [ -4   8   3]]\n"
     ]
    }
   ],
   "source": [
    "u=np.vstack((w,[-4,8,3]))\n",
    "print(u)"
   ]
  },
  {
   "cell_type": "markdown",
   "metadata": {},
   "source": [
    "Here are some operations."
   ]
  },
  {
   "cell_type": "code",
   "execution_count": 85,
   "metadata": {},
   "outputs": [
    {
     "name": "stdout",
     "output_type": "stream",
     "text": [
      "[[ 15  45 225]\n",
      " [-75 -20 -75]\n",
      " [-20  40  15]]\n"
     ]
    }
   ],
   "source": [
    "print(5*u)"
   ]
  },
  {
   "cell_type": "code",
   "execution_count": 89,
   "metadata": {},
   "outputs": [
    {
     "name": "stdout",
     "output_type": "stream",
     "text": [
      "[[1. 1. 1.]\n",
      " [1. 1. 1.]\n",
      " [1. 1. 1.]]\n"
     ]
    }
   ],
   "source": [
    "print(np.zeros((3,3))+1)"
   ]
  },
  {
   "cell_type": "code",
   "execution_count": 90,
   "metadata": {},
   "outputs": [
    {
     "name": "stdout",
     "output_type": "stream",
     "text": [
      "[[  4  10  46]\n",
      " [-14  -3 -14]\n",
      " [ -3   9   4]]\n"
     ]
    }
   ],
   "source": [
    "print(u+1)"
   ]
  },
  {
   "cell_type": "code",
   "execution_count": 86,
   "metadata": {},
   "outputs": [
    {
     "data": {
      "text/plain": [
       "-4850.999999999996"
      ]
     },
     "execution_count": 86,
     "metadata": {},
     "output_type": "execute_result"
    }
   ],
   "source": [
    "np.linalg.det(u)# determinant"
   ]
  },
  {
   "cell_type": "code",
   "execution_count": 87,
   "metadata": {},
   "outputs": [
    {
     "data": {
      "text/plain": [
       "array([[-0.02226345, -0.06864564, -0.00927644],\n",
       "       [-0.02164502, -0.03896104,  0.12987013],\n",
       "       [ 0.02803546,  0.01236858, -0.0253556 ]])"
      ]
     },
     "execution_count": 87,
     "metadata": {},
     "output_type": "execute_result"
    }
   ],
   "source": [
    "np.linalg.inv(u)# inverse"
   ]
  },
  {
   "cell_type": "code",
   "execution_count": 88,
   "metadata": {},
   "outputs": [
    {
     "data": {
      "text/plain": [
       "array([[  3, -15,  -4],\n",
       "       [  9,  -4,   8],\n",
       "       [ 45, -15,   3]])"
      ]
     },
     "execution_count": 88,
     "metadata": {},
     "output_type": "execute_result"
    }
   ],
   "source": [
    "u.T# transpose"
   ]
  },
  {
   "cell_type": "markdown",
   "metadata": {},
   "source": [
    "Broadcasting examples.  The first example obeys rules, while the second example does not."
   ]
  },
  {
   "cell_type": "code",
   "execution_count": 97,
   "metadata": {},
   "outputs": [
    {
     "name": "stdout",
     "output_type": "stream",
     "text": [
      "u = [[  3   9  45]\n",
      " [-15  -4 -15]\n",
      " [ -4   8   3]]\n",
      "s = [ 5  9 -3]\n",
      "shape(u) = (3, 3)\n",
      "shape(s) = (3,)\n",
      "u+s = [[  8  18  42]\n",
      " [-10   5 -18]\n",
      " [  1  17   0]]\n"
     ]
    }
   ],
   "source": [
    "print('u =',u)\n",
    "s=np.array([5,9,-3])\n",
    "print('s =',s)\n",
    "print('shape(u) =',np.shape(u))\n",
    "print('shape(s) =',np.shape(s))\n",
    "print('u+s =',u+s)# = sum_j (u_ij+s_j)"
   ]
  },
  {
   "cell_type": "code",
   "execution_count": 95,
   "metadata": {},
   "outputs": [
    {
     "name": "stdout",
     "output_type": "stream",
     "text": [
      "r = [[  3 -15]\n",
      " [  9  -4]\n",
      " [ 45 -15]]\n",
      "s = [ 5  9 -3]\n",
      "shape(r) = (3, 2)\n",
      "shape(s) = (3,)\n"
     ]
    },
    {
     "ename": "ValueError",
     "evalue": "operands could not be broadcast together with shapes (3,2) (3,) ",
     "output_type": "error",
     "traceback": [
      "\u001b[0;31m---------------------------------------------------------------------------\u001b[0m",
      "\u001b[0;31mValueError\u001b[0m                                Traceback (most recent call last)",
      "\u001b[0;32m<ipython-input-95-4b35a0d0d9a2>\u001b[0m in \u001b[0;36m<module>\u001b[0;34m\u001b[0m\n\u001b[1;32m      5\u001b[0m \u001b[0mprint\u001b[0m\u001b[0;34m(\u001b[0m\u001b[0;34m'shape(r) ='\u001b[0m\u001b[0;34m,\u001b[0m\u001b[0mnp\u001b[0m\u001b[0;34m.\u001b[0m\u001b[0mshape\u001b[0m\u001b[0;34m(\u001b[0m\u001b[0mr\u001b[0m\u001b[0;34m)\u001b[0m\u001b[0;34m)\u001b[0m\u001b[0;34m\u001b[0m\u001b[0;34m\u001b[0m\u001b[0m\n\u001b[1;32m      6\u001b[0m \u001b[0mprint\u001b[0m\u001b[0;34m(\u001b[0m\u001b[0;34m'shape(s) ='\u001b[0m\u001b[0;34m,\u001b[0m\u001b[0mnp\u001b[0m\u001b[0;34m.\u001b[0m\u001b[0mshape\u001b[0m\u001b[0;34m(\u001b[0m\u001b[0ms\u001b[0m\u001b[0;34m)\u001b[0m\u001b[0;34m)\u001b[0m\u001b[0;34m\u001b[0m\u001b[0;34m\u001b[0m\u001b[0m\n\u001b[0;32m----> 7\u001b[0;31m \u001b[0mprint\u001b[0m\u001b[0;34m(\u001b[0m\u001b[0;34m'r+s ='\u001b[0m\u001b[0;34m,\u001b[0m\u001b[0mr\u001b[0m\u001b[0;34m+\u001b[0m\u001b[0ms\u001b[0m\u001b[0;34m)\u001b[0m\u001b[0;31m# = sum_j (r_ij+s_j)\u001b[0m\u001b[0;34m\u001b[0m\u001b[0;34m\u001b[0m\u001b[0m\n\u001b[0m",
      "\u001b[0;31mValueError\u001b[0m: operands could not be broadcast together with shapes (3,2) (3,) "
     ]
    }
   ],
   "source": [
    "r=w.T\n",
    "print('r =',r)\n",
    "s=np.array([5,9,-3])\n",
    "print('s =',s)\n",
    "print('shape(r) =',np.shape(r))\n",
    "print('shape(s) =',np.shape(s))\n",
    "print('r+s =',r+s)# = sum_j (r_ij+s_j)"
   ]
  },
  {
   "cell_type": "markdown",
   "metadata": {},
   "source": [
    "## Control Statements"
   ]
  },
  {
   "cell_type": "markdown",
   "metadata": {},
   "source": [
    "In class we introduce the *for loop*, the *if statement*, and the *while loop*.  Here's a simple for loop."
   ]
  },
  {
   "cell_type": "code",
   "execution_count": 99,
   "metadata": {},
   "outputs": [
    {
     "name": "stdout",
     "output_type": "stream",
     "text": [
      "0\n",
      "2\n",
      "4\n",
      "6\n",
      "8\n"
     ]
    }
   ],
   "source": [
    "for i in np.arange(5):\n",
    "    print(2*i)"
   ]
  },
  {
   "cell_type": "markdown",
   "metadata": {},
   "source": [
    "You can use this to do a sum."
   ]
  },
  {
   "cell_type": "code",
   "execution_count": 101,
   "metadata": {},
   "outputs": [
    {
     "name": "stdout",
     "output_type": "stream",
     "text": [
      "20\n"
     ]
    }
   ],
   "source": [
    "tot=0 # initialize sum\n",
    "for i in np.arange(5):\n",
    "    tot+=2*i\n",
    "print(tot)"
   ]
  },
  {
   "cell_type": "markdown",
   "metadata": {},
   "source": [
    "However, using universal functions, or ufuncs, are much faster."
   ]
  },
  {
   "cell_type": "code",
   "execution_count": 105,
   "metadata": {},
   "outputs": [
    {
     "name": "stdout",
     "output_type": "stream",
     "text": [
      "99999990000000\n",
      "5.18737530708313 sec\n"
     ]
    }
   ],
   "source": [
    "import time\n",
    "start=time.time()# initial time\n",
    "tot=0\n",
    "for i in np.arange(10000000):\n",
    "    tot+=2*i\n",
    "print(tot)\n",
    "end=time.time()\n",
    "print(end-start,'sec')"
   ]
  },
  {
   "cell_type": "code",
   "execution_count": 106,
   "metadata": {},
   "outputs": [
    {
     "name": "stdout",
     "output_type": "stream",
     "text": [
      "99999990000000\n",
      "0.03638410568237305 sec\n"
     ]
    }
   ],
   "source": [
    "import time\n",
    "start=time.time()# initial time\n",
    "tot=np.sum(2*np.arange(10000000))\n",
    "print(tot)\n",
    "end=time.time()\n",
    "print(end-start,'sec')"
   ]
  },
  {
   "cell_type": "markdown",
   "metadata": {},
   "source": [
    "That's 140x faster!  This adds up for long calculations, and it can be the difference between a minute and a few hours.\n",
    "\n",
    "For the next two control statements you need *conditionals*, which compare values.  Here is an example."
   ]
  },
  {
   "cell_type": "code",
   "execution_count": 112,
   "metadata": {},
   "outputs": [
    {
     "name": "stdout",
     "output_type": "stream",
     "text": [
      "0 True\n",
      "1 False\n",
      "2 False\n",
      "3 True\n",
      "4 False\n",
      "5 False\n"
     ]
    }
   ],
   "source": [
    "for i in np.arange(6):\n",
    "    print(i,i%3==0)"
   ]
  },
  {
   "cell_type": "markdown",
   "metadata": {},
   "source": [
    "Here is an example of an *if statement*, where we consider for a velocity function $v(t)=-2+7t-5t^2$ for $t=0-2$ whether an object is going left or right at each timestep."
   ]
  },
  {
   "cell_type": "code",
   "execution_count": 138,
   "metadata": {},
   "outputs": [
    {
     "name": "stdout",
     "output_type": "stream",
     "text": [
      "# right = 6\n",
      "# left = 13\n",
      "# still = 1\n"
     ]
    }
   ],
   "source": [
    "t=0.1*np.arange(20)\n",
    "v=-2.+7*t-5.*t**2 # v(t)\n",
    "d=np.zeros(3,int)# number in that direction\n",
    "#[right,left,center]\n",
    "for i in np.arange(20):\n",
    "    if v[i]>0.:\n",
    "        d[0]+=1\n",
    "    elif v[i]<0.:\n",
    "        d[1]+=1\n",
    "    else:\n",
    "        d[2]+=1\n",
    "print('# right =',d[0])\n",
    "print('# left =',d[1])\n",
    "print('# still =',d[2])"
   ]
  },
  {
   "cell_type": "markdown",
   "metadata": {},
   "source": [
    "A *while statement* repeats until the conditional is not satisfied.  In this example, we use a while statement to find how long it takes a ball that is thrown vertically in the air takes to hit the ground."
   ]
  },
  {
   "cell_type": "code",
   "execution_count": 149,
   "metadata": {},
   "outputs": [
    {
     "name": "stdout",
     "output_type": "stream",
     "text": [
      "ground time = 0.6 sec\n",
      "theory = 0.5102040816326531 sec\n",
      "error fraction = 0.17599999999999993\n"
     ]
    }
   ],
   "source": [
    "g=-9.8#m/s^2 - acceleration due to gravity\n",
    "v0=5.#m/s - initial velocity\n",
    "t=0#s - initialize time\n",
    "dt=0.1#s - time step\n",
    "t+=dt\n",
    "d=v0*t+g*t**2# equation for distance d(t)\n",
    "while d>0.:\n",
    "    t+=dt\n",
    "    d=v0*t+g*t**2\n",
    "print('ground time =',t,'sec')\n",
    "t_theo = -v0/g\n",
    "print('theory =',t_theo,'sec')\n",
    "print('error fraction =',(t-t_theo)/t_theo)"
   ]
  },
  {
   "cell_type": "markdown",
   "metadata": {},
   "source": [
    "How can we improve this program?\n",
    "\n",
    "What happens if you make an error, perhaps use the wrong sign for $g$?  The ball would keep accelerating upward and never stop -- causing an infinite loop.  A *break* statement would allow the loop to finish at some point."
   ]
  },
  {
   "cell_type": "code",
   "execution_count": 150,
   "metadata": {},
   "outputs": [
    {
     "name": "stdout",
     "output_type": "stream",
     "text": [
      "More than a million steps.\n",
      "tmax = 100000.10000133289 sec\n",
      "Increase step size or check the acceleration\n"
     ]
    }
   ],
   "source": [
    "g=9.8#m/s^2 - error\n",
    "v0=5.\n",
    "t=0\n",
    "dt=0.1\n",
    "t+=dt\n",
    "d=v0*t+g*t**2\n",
    "nstep=1# count number of steps\n",
    "maxstep=1000000\n",
    "while d>0.:\n",
    "    t+=dt\n",
    "    d=v0*t+g*t**2\n",
    "    nstep+=1\n",
    "    if nstep>maxstep:\n",
    "        print('More than a million steps.')\n",
    "        print('tmax =',t,'sec')\n",
    "        print('Increase step size or check the acceleration')\n",
    "        break\n",
    "if nstep<=maxstep:#stop from printing if maxstep is reached\n",
    "    print('ground time =',t,'sec')\n",
    "    t_theo = -v0/g\n",
    "    print('theory =',t_theo,'sec')\n",
    "    print('error fraction =',(t-t_theo)/t_theo)"
   ]
  },
  {
   "cell_type": "markdown",
   "metadata": {},
   "source": [
    "## User-Defined Function"
   ]
  },
  {
   "cell_type": "markdown",
   "metadata": {},
   "source": [
    "User-defined functions allow you to have modularity in your code.  Let's take the routine from the last example and make it a function."
   ]
  },
  {
   "cell_type": "code",
   "execution_count": 153,
   "metadata": {},
   "outputs": [],
   "source": [
    "def ground_time(v0,dt=0.1,maxstep=1000000):# set a default value\n",
    "#for the time step and max number of steps\n",
    "    g=-9.8#m/s^2 - acceleration due to gravity\n",
    "    t=0#s - initialize time\n",
    "    t+=dt\n",
    "    d=v0*t+g*t**2# equation for distance d(t)\n",
    "    nstep=1# count number of steps\n",
    "    while d>0.:\n",
    "        t+=dt\n",
    "        d=v0*t+g*t**2\n",
    "        nstep+=1\n",
    "        if nstep>maxstep:\n",
    "            print('More than',maxstep,'steps.')\n",
    "            print('tmax =',t,'sec')\n",
    "            print('Increase step size or maxstep, or check the acceleration')\n",
    "            break\n",
    "    if nstep<=maxstep:#stop from printing if maxstep is reached\n",
    "        print('ground time =',t,'sec')\n",
    "        t_theo = -v0/g\n",
    "        print('theory =',t_theo,'sec')\n",
    "        print('error fraction =',(t-t_theo)/t_theo)"
   ]
  },
  {
   "cell_type": "code",
   "execution_count": 154,
   "metadata": {},
   "outputs": [
    {
     "name": "stdout",
     "output_type": "stream",
     "text": [
      "ground time = 0.6 sec\n",
      "theory = 0.5102040816326531 sec\n",
      "error fraction = 0.17599999999999993\n"
     ]
    }
   ],
   "source": [
    "ground_time(5.)#example from before"
   ]
  },
  {
   "cell_type": "code",
   "execution_count": 155,
   "metadata": {},
   "outputs": [
    {
     "name": "stdout",
     "output_type": "stream",
     "text": [
      "ground time = 1.6000000000000003 sec\n",
      "theory = 1.530612244897959 sec\n",
      "error fraction = 0.045333333333333586\n"
     ]
    }
   ],
   "source": [
    "ground_time(15.)# try a different v0"
   ]
  },
  {
   "cell_type": "code",
   "execution_count": 156,
   "metadata": {},
   "outputs": [
    {
     "name": "stdout",
     "output_type": "stream",
     "text": [
      "ground time = 1.5400000000000011 sec\n",
      "theory = 1.530612244897959 sec\n",
      "error fraction = 0.006133333333334132\n"
     ]
    }
   ],
   "source": [
    "ground_time(15.,dt=0.01)#increase precision"
   ]
  },
  {
   "cell_type": "markdown",
   "metadata": {},
   "source": [
    "Questions:\n",
    "- Why should the parameters dt and maxstep have defaults?\n",
    "- What is another way you can hit maxstep?"
   ]
  }
 ],
 "metadata": {
  "kernelspec": {
   "display_name": "Python 3",
   "language": "python",
   "name": "python3"
  },
  "language_info": {
   "codemirror_mode": {
    "name": "ipython",
    "version": 3
   },
   "file_extension": ".py",
   "mimetype": "text/x-python",
   "name": "python",
   "nbconvert_exporter": "python",
   "pygments_lexer": "ipython3",
   "version": "3.8.3"
  }
 },
 "nbformat": 4,
 "nbformat_minor": 4
}
